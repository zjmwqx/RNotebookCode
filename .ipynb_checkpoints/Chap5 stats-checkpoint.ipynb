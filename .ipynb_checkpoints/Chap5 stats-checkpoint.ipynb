{
 "cells": [
  {
   "cell_type": "code",
   "execution_count": 5,
   "metadata": {
    "collapsed": true
   },
   "outputs": [],
   "source": [
    "data(InsectSprays)"
   ]
  },
  {
   "cell_type": "code",
   "execution_count": 35,
   "metadata": {
    "collapsed": false
   },
   "outputs": [
    {
     "data": {
      "text/plain": [
       "            Df Sum Sq Mean Sq F value Pr(>F)    \n",
       "spray        5  88.44  17.688    44.8 <2e-16 ***\n",
       "Residuals   66  26.06   0.395                   \n",
       "---\n",
       "Signif. codes:  0 ‘***’ 0.001 ‘**’ 0.01 ‘*’ 0.05 ‘.’ 0.1 ‘ ’ 1"
      ]
     },
     "execution_count": 35,
     "metadata": {},
     "output_type": "execute_result"
    }
   ],
   "source": [
    "summary(aov.spray)"
   ]
  },
  {
   "cell_type": "code",
   "execution_count": 4,
   "metadata": {
    "collapsed": false
   },
   "outputs": [],
   "source": [
    "# aov.spray <- aov(sqrt(count) ~ spray, data = InsectSprays)\n",
    "# opar <- par()\n",
    "# par(mfcol = c(2, 2))\n",
    "# plot(aov.spray)\n",
    "# par(opar)\n",
    "# termplot(aov.spray, se=TRUE, partial.resid=TRUE, rug=TRUE)\n",
    "#http://wenku.baidu.com/link?url=lXToNgXc_W9wiFoD0afhDD6Jv8cp3H1kRnKoaNlneEcpT612twqdsRQRQkLiVFXi-XG3IwGkqwydF-NtFOJ7xE3zFYopi3KstMD89nJuvdG"
   ]
  },
  {
   "cell_type": "markdown",
   "metadata": {},
   "source": [
    "## generic function"
   ]
  },
  {
   "cell_type": "code",
   "execution_count": 11,
   "metadata": {
    "collapsed": false
   },
   "outputs": [],
   "source": [
    "# str(aov.spray, max.level = 1)"
   ]
  },
  {
   "cell_type": "code",
   "execution_count": 40,
   "metadata": {
    "collapsed": false
   },
   "outputs": [],
   "source": [
    "# names(aov.spray)\n",
    "# aov.spray$coefficients"
   ]
  },
  {
   "cell_type": "code",
   "execution_count": 33,
   "metadata": {
    "collapsed": false
   },
   "outputs": [
    {
     "name": "stdout",
     "output_type": "stream",
     "text": [
      "List of 1\n",
      " $ :Classes ‘anova’ and 'data.frame':\t2 obs. of  5 variables:\n",
      "  ..$ Df     : num [1:2] 5 66\n",
      "  ..$ Sum Sq : num [1:2] 88.4 26.1\n",
      "  ..$ Mean Sq: num [1:2] 17.688 0.395\n",
      "  ..$ F value: num [1:2] 44.8 NA\n",
      "  ..$ Pr(>F) : num [1:2] 6.33e-20 NA\n",
      " - attr(*, \"class\")= chr [1:2] \"summary.aov\" \"listof\"\n"
     ]
    }
   ],
   "source": [
    "# summary(aov.spray)\n",
    "str(summary(aov.spray))"
   ]
  },
  {
   "cell_type": "code",
   "execution_count": 36,
   "metadata": {
    "collapsed": false
   },
   "outputs": [],
   "source": [
    "# print(apropos(\"^summary\"))"
   ]
  },
  {
   "cell_type": "code",
   "execution_count": 41,
   "metadata": {
    "collapsed": false
   },
   "outputs": [
    {
     "data": {
      "text/html": [
       "<ol class=list-inline>\n",
       "\t<li>'coefficients'</li>\n",
       "\t<li>'residuals'</li>\n",
       "\t<li>'effects'</li>\n",
       "\t<li>'rank'</li>\n",
       "\t<li>'fitted.values'</li>\n",
       "\t<li>'assign'</li>\n",
       "\t<li>'qr'</li>\n",
       "\t<li>'df.residual'</li>\n",
       "\t<li>'xlevels'</li>\n",
       "\t<li>'call'</li>\n",
       "\t<li>'terms'</li>\n",
       "\t<li>'model'</li>\n",
       "</ol>\n"
      ],
      "text/latex": [
       "\\begin{enumerate*}\n",
       "\\item 'coefficients'\n",
       "\\item 'residuals'\n",
       "\\item 'effects'\n",
       "\\item 'rank'\n",
       "\\item 'fitted.values'\n",
       "\\item 'assign'\n",
       "\\item 'qr'\n",
       "\\item 'df.residual'\n",
       "\\item 'xlevels'\n",
       "\\item 'call'\n",
       "\\item 'terms'\n",
       "\\item 'model'\n",
       "\\end{enumerate*}\n"
      ],
      "text/markdown": [
       "1. 'coefficients'\n",
       "2. 'residuals'\n",
       "3. 'effects'\n",
       "4. 'rank'\n",
       "5. 'fitted.values'\n",
       "6. 'assign'\n",
       "7. 'qr'\n",
       "8. 'df.residual'\n",
       "9. 'xlevels'\n",
       "10. 'call'\n",
       "11. 'terms'\n",
       "12. 'model'\n",
       "\n",
       "\n"
      ],
      "text/plain": [
       " [1] \"coefficients\"  \"residuals\"     \"effects\"       \"rank\"         \n",
       " [5] \"fitted.values\" \"assign\"        \"qr\"            \"df.residual\"  \n",
       " [9] \"xlevels\"       \"call\"          \"terms\"         \"model\"        "
      ]
     },
     "execution_count": 41,
     "metadata": {},
     "output_type": "execute_result"
    },
    {
     "name": "stderr",
     "output_type": "stream",
     "text": [
      "Warning message:\n",
      "In summary.lm(lm.spray): essentially perfect fit: summary may be unreliable"
     ]
    },
    {
     "data": {
      "text/html": [
       "<ol class=list-inline>\n",
       "\t<li>'call'</li>\n",
       "\t<li>'terms'</li>\n",
       "\t<li>'residuals'</li>\n",
       "\t<li>'coefficients'</li>\n",
       "\t<li>'aliased'</li>\n",
       "\t<li>'sigma'</li>\n",
       "\t<li>'df'</li>\n",
       "\t<li>'r.squared'</li>\n",
       "\t<li>'adj.r.squared'</li>\n",
       "\t<li>'fstatistic'</li>\n",
       "\t<li>'cov.unscaled'</li>\n",
       "</ol>\n"
      ],
      "text/latex": [
       "\\begin{enumerate*}\n",
       "\\item 'call'\n",
       "\\item 'terms'\n",
       "\\item 'residuals'\n",
       "\\item 'coefficients'\n",
       "\\item 'aliased'\n",
       "\\item 'sigma'\n",
       "\\item 'df'\n",
       "\\item 'r.squared'\n",
       "\\item 'adj.r.squared'\n",
       "\\item 'fstatistic'\n",
       "\\item 'cov.unscaled'\n",
       "\\end{enumerate*}\n"
      ],
      "text/markdown": [
       "1. 'call'\n",
       "2. 'terms'\n",
       "3. 'residuals'\n",
       "4. 'coefficients'\n",
       "5. 'aliased'\n",
       "6. 'sigma'\n",
       "7. 'df'\n",
       "8. 'r.squared'\n",
       "9. 'adj.r.squared'\n",
       "10. 'fstatistic'\n",
       "11. 'cov.unscaled'\n",
       "\n",
       "\n"
      ],
      "text/plain": [
       " [1] \"call\"          \"terms\"         \"residuals\"     \"coefficients\" \n",
       " [5] \"aliased\"       \"sigma\"         \"df\"            \"r.squared\"    \n",
       " [9] \"adj.r.squared\" \"fstatistic\"    \"cov.unscaled\" "
      ]
     },
     "execution_count": 41,
     "metadata": {},
     "output_type": "execute_result"
    }
   ],
   "source": [
    "x <- y<- rnorm(5)\n",
    "lm.spray <- lm(y ~ x)\n",
    "names(lm.spray)\n",
    "names(summary(lm.spray))"
   ]
  },
  {
   "cell_type": "code",
   "execution_count": 43,
   "metadata": {
    "collapsed": false
   },
   "outputs": [
    {
     "data": {
      "text/html": [
       "<ol class=list-inline>\n",
       "\t<li>'.GlobalEnv'</li>\n",
       "\t<li>'package:stats'</li>\n",
       "\t<li>'package:graphics'</li>\n",
       "\t<li>'package:grDevices'</li>\n",
       "\t<li>'package:utils'</li>\n",
       "\t<li>'package:datasets'</li>\n",
       "\t<li>'package:methods'</li>\n",
       "\t<li>'Autoloads'</li>\n",
       "\t<li>'package:base'</li>\n",
       "</ol>\n"
      ],
      "text/latex": [
       "\\begin{enumerate*}\n",
       "\\item '.GlobalEnv'\n",
       "\\item 'package:stats'\n",
       "\\item 'package:graphics'\n",
       "\\item 'package:grDevices'\n",
       "\\item 'package:utils'\n",
       "\\item 'package:datasets'\n",
       "\\item 'package:methods'\n",
       "\\item 'Autoloads'\n",
       "\\item 'package:base'\n",
       "\\end{enumerate*}\n"
      ],
      "text/markdown": [
       "1. '.GlobalEnv'\n",
       "2. 'package:stats'\n",
       "3. 'package:graphics'\n",
       "4. 'package:grDevices'\n",
       "5. 'package:utils'\n",
       "6. 'package:datasets'\n",
       "7. 'package:methods'\n",
       "8. 'Autoloads'\n",
       "9. 'package:base'\n",
       "\n",
       "\n"
      ],
      "text/plain": [
       "[1] \".GlobalEnv\"        \"package:stats\"     \"package:graphics\" \n",
       "[4] \"package:grDevices\" \"package:utils\"     \"package:datasets\" \n",
       "[7] \"package:methods\"   \"Autoloads\"         \"package:base\"     "
      ]
     },
     "execution_count": 43,
     "metadata": {},
     "output_type": "execute_result"
    }
   ],
   "source": [
    "search()"
   ]
  },
  {
   "cell_type": "code",
   "execution_count": 49,
   "metadata": {
    "collapsed": true
   },
   "outputs": [],
   "source": [
    "library(help = datasets)"
   ]
  },
  {
   "cell_type": "code",
   "execution_count": 50,
   "metadata": {
    "collapsed": true
   },
   "outputs": [],
   "source": [
    "library(help = grid)"
   ]
  }
 ],
 "metadata": {
  "kernelspec": {
   "display_name": "R",
   "language": "R",
   "name": "ir"
  },
  "language_info": {
   "codemirror_mode": "r",
   "file_extension": ".r",
   "mimetype": "text/x-r-source",
   "name": "R",
   "pygments_lexer": "r",
   "version": "3.1.2"
  }
 },
 "nbformat": 4,
 "nbformat_minor": 0
}
