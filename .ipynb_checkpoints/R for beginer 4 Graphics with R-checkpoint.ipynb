{
 "cells": [
  {
   "cell_type": "markdown",
   "metadata": {},
   "source": [
    "## Basic"
   ]
  },
  {
   "cell_type": "code",
   "execution_count": 9,
   "metadata": {
    "collapsed": false
   },
   "outputs": [],
   "source": [
    "# demo(graphics)"
   ]
  },
  {
   "cell_type": "code",
   "execution_count": 21,
   "metadata": {
    "collapsed": false
   },
   "outputs": [],
   "source": [
    "# barplot(rnorm(1000, 0.3, 10))"
   ]
  },
  {
   "cell_type": "code",
   "execution_count": 25,
   "metadata": {
    "collapsed": false
   },
   "outputs": [],
   "source": [
    "# qqplot(rnorm(1000, 0, 10), 1:1000)"
   ]
  },
  {
   "cell_type": "code",
   "execution_count": 11,
   "metadata": {
    "collapsed": false
   },
   "outputs": [
    {
     "data": {
      "text/html": [
       "0.00573037889191171"
      ],
      "text/latex": [
       "0.00573037889191171"
      ],
      "text/markdown": [
       "0.00573037889191171"
      ],
      "text/plain": [
       "[1] 0.005730379"
      ]
     },
     "execution_count": 11,
     "metadata": {},
     "output_type": "execute_result"
    },
    {
     "data": {
      "text/html": [
       "0.975580814719777"
      ],
      "text/latex": [
       "0.975580814719777"
      ],
      "text/markdown": [
       "0.975580814719777"
      ],
      "text/plain": [
       "[1] 0.9755808"
      ]
     },
     "execution_count": 11,
     "metadata": {},
     "output_type": "execute_result"
    }
   ],
   "source": [
    "dnorm(20, 0.3, 10)\n",
    "pnorm(20, 0.3, 10)"
   ]
  },
  {
   "cell_type": "code",
   "execution_count": 13,
   "metadata": {
    "collapsed": false
   },
   "outputs": [
    {
     "data": {
      "text/html": [
       "2.833471031358"
      ],
      "text/latex": [
       "2.833471031358"
      ],
      "text/markdown": [
       "2.833471031358"
      ],
      "text/plain": [
       "[1] 2.833471"
      ]
     },
     "execution_count": 13,
     "metadata": {},
     "output_type": "execute_result"
    }
   ],
   "source": [
    "qnorm(0.6, 0.3, 10)"
   ]
  },
  {
   "cell_type": "code",
   "execution_count": 10,
   "metadata": {
    "collapsed": false
   },
   "outputs": [
    {
     "data": {
      "text/html": [
       "<strong>60%:</strong> 2.61914339823041"
      ],
      "text/latex": [
       "\\textbf{60%:} 2.61914339823041"
      ],
      "text/markdown": [
       "**60%:** 2.61914339823041"
      ],
      "text/plain": [
       "     60% \n",
       "2.619143 "
      ]
     },
     "execution_count": 10,
     "metadata": {},
     "output_type": "execute_result"
    }
   ],
   "source": [
    "quantile(rnorm(1000, 0.3, 10), 0.6)"
   ]
  },
  {
   "cell_type": "code",
   "execution_count": 6,
   "metadata": {
    "collapsed": false
   },
   "outputs": [],
   "source": [
    "# demo(persp)"
   ]
  },
  {
   "cell_type": "code",
   "execution_count": 12,
   "metadata": {
    "collapsed": false
   },
   "outputs": [],
   "source": [
    "# ?device"
   ]
  },
  {
   "cell_type": "code",
   "execution_count": 17,
   "metadata": {
    "collapsed": false
   },
   "outputs": [
    {
     "data": {
      "text/html": [
       "<dl class=dl-horizontal>\n",
       "\t<dt>pdf</dt>\n",
       "\t\t<dd>2</dd>\n",
       "\t<dt>X11cairo</dt>\n",
       "\t\t<dd>3</dd>\n",
       "\t<dt>X11cairo</dt>\n",
       "\t\t<dd>4</dd>\n",
       "</dl>\n"
      ],
      "text/latex": [
       "\\begin{description*}\n",
       "\\item[pdf] 2\n",
       "\\item[X11cairo] 3\n",
       "\\item[X11cairo] 4\n",
       "\\end{description*}\n"
      ],
      "text/markdown": [
       "pdf\n",
       ":   2X11cairo\n",
       ":   3X11cairo\n",
       ":   4\n",
       "\n"
      ],
      "text/plain": [
       "     pdf X11cairo X11cairo \n",
       "       2        3        4 "
      ]
     },
     "execution_count": 17,
     "metadata": {},
     "output_type": "execute_result"
    },
    {
     "data": {
      "text/html": [
       "<strong>pdf:</strong> 2"
      ],
      "text/latex": [
       "\\textbf{pdf:} 2"
      ],
      "text/markdown": [
       "**pdf:** 2"
      ],
      "text/plain": [
       "pdf \n",
       "  2 "
      ]
     },
     "execution_count": 17,
     "metadata": {},
     "output_type": "execute_result"
    },
    {
     "data": {
      "text/html": [
       "<strong>X11cairo:</strong> 3"
      ],
      "text/latex": [
       "\\textbf{X11cairo:} 3"
      ],
      "text/markdown": [
       "**X11cairo:** 3"
      ],
      "text/plain": [
       "X11cairo \n",
       "       3 "
      ]
     },
     "execution_count": 17,
     "metadata": {},
     "output_type": "execute_result"
    }
   ],
   "source": [
    "dev.list(); dev.cur(); dev.set(3)"
   ]
  },
  {
   "cell_type": "code",
   "execution_count": 20,
   "metadata": {
    "collapsed": false
   },
   "outputs": [
    {
     "data": {
      "text/html": [
       "<strong>pdf:</strong> 2"
      ],
      "text/latex": [
       "\\textbf{pdf:} 2"
      ],
      "text/markdown": [
       "**pdf:** 2"
      ],
      "text/plain": [
       "pdf \n",
       "  2 "
      ]
     },
     "execution_count": 20,
     "metadata": {},
     "output_type": "execute_result"
    }
   ],
   "source": [
    "dev.off(3)"
   ]
  },
  {
   "cell_type": "code",
   "execution_count": 26,
   "metadata": {
    "collapsed": false
   },
   "outputs": [
    {
     "data": {
      "text/html": [
       "<strong>null device:</strong> 1"
      ],
      "text/latex": [
       "\\textbf{null device:} 1"
      ],
      "text/markdown": [
       "**null device:** 1"
      ],
      "text/plain": [
       "null device \n",
       "          1 "
      ]
     },
     "execution_count": 26,
     "metadata": {},
     "output_type": "execute_result"
    }
   ],
   "source": [
    "dev.off()"
   ]
  },
  {
   "cell_type": "code",
   "execution_count": 35,
   "metadata": {
    "collapsed": true
   },
   "outputs": [],
   "source": [
    "# x11()"
   ]
  },
  {
   "cell_type": "code",
   "execution_count": 32,
   "metadata": {
    "collapsed": false
   },
   "outputs": [],
   "source": [
    "# split.screen(c(1,2))"
   ]
  },
  {
   "cell_type": "code",
   "execution_count": 34,
   "metadata": {
    "collapsed": false
   },
   "outputs": [],
   "source": [
    "# screen(2)"
   ]
  },
  {
   "cell_type": "code",
   "execution_count": 42,
   "metadata": {
    "collapsed": false
   },
   "outputs": [],
   "source": [
    "layout(matrix(1:4, 2, 2))"
   ]
  },
  {
   "cell_type": "code",
   "execution_count": 45,
   "metadata": {
    "collapsed": false
   },
   "outputs": [],
   "source": [
    "# layout.show(4)"
   ]
  },
  {
   "cell_type": "code",
   "execution_count": 48,
   "metadata": {
    "collapsed": true
   },
   "outputs": [],
   "source": [
    "# m <- matrix(c(1:3, 3), 2, 2)"
   ]
  },
  {
   "cell_type": "code",
   "execution_count": 49,
   "metadata": {
    "collapsed": true
   },
   "outputs": [],
   "source": [
    "# layout(m)"
   ]
  },
  {
   "cell_type": "code",
   "execution_count": 51,
   "metadata": {
    "collapsed": false
   },
   "outputs": [],
   "source": [
    "# m <- matrix(1:4, 2, 2)\n",
    "# layout(m, widths=c(1,3),\n",
    "#       height=c(3,1))\n",
    "# layout.show(4)"
   ]
  },
  {
   "cell_type": "code",
   "execution_count": 63,
   "metadata": {
    "collapsed": true
   },
   "outputs": [],
   "source": [
    "x <- rep(1,100); y = rexp(100)"
   ]
  },
  {
   "cell_type": "code",
   "execution_count": 58,
   "metadata": {
    "collapsed": false
   },
   "outputs": [],
   "source": [
    "# plot(x, y)"
   ]
  },
  {
   "cell_type": "code",
   "execution_count": 74,
   "metadata": {
    "collapsed": false
   },
   "outputs": [],
   "source": [
    "# iris[,4:5]"
   ]
  },
  {
   "cell_type": "code",
   "execution_count": 75,
   "metadata": {
    "collapsed": false
   },
   "outputs": [],
   "source": [
    "# sunflowerplot(iris[,4:5],col=\"gold\",seg.col=\"gold\")"
   ]
  },
  {
   "cell_type": "code",
   "execution_count": 87,
   "metadata": {
    "collapsed": false
   },
   "outputs": [],
   "source": [
    "# ?sunflowerplot"
   ]
  },
  {
   "cell_type": "code",
   "execution_count": 14,
   "metadata": {
    "collapsed": false
   },
   "outputs": [],
   "source": [
    "# x <- c(1,1,1,3,2,2,2,4,4,4); y<- c(3,3,3,2,2,2,2,3,3,3) \n",
    "# sunflowerplot(x, y)"
   ]
  },
  {
   "cell_type": "code",
   "execution_count": 2,
   "metadata": {
    "collapsed": false
   },
   "outputs": [],
   "source": [
    "# ?coplot"
   ]
  },
  {
   "cell_type": "code",
   "execution_count": 3,
   "metadata": {
    "collapsed": false
   },
   "outputs": [],
   "source": [
    "# quakes"
   ]
  },
  {
   "cell_type": "code",
   "execution_count": 85,
   "metadata": {
    "collapsed": false
   },
   "outputs": [],
   "source": [
    "# coplot(lat ~ long | depth, data = quakes)\n",
    "# given.depth <- co.intervals(quakes$depth, number = 4, overlap = .1)\n",
    "# coplot(lat ~ long | depth, data = quakes, given.v = given.depth, rows = 1)"
   ]
  },
  {
   "cell_type": "code",
   "execution_count": 4,
   "metadata": {
    "collapsed": false
   },
   "outputs": [],
   "source": [
    "# require(graphics)\n",
    "# with(ToothGrowth, {\n",
    "# interaction.plot(dose, supp, len, fixed = TRUE)\n",
    "# dose <- ordered(dose)\n",
    "# interaction.plot(dose, supp, len, fixed = TRUE, col = 2:3, leg.bty = \"o\")\n",
    "# interaction.plot(dose, supp, len, fixed = TRUE, col = 2:3, type = \"p\")\n",
    "# })"
   ]
  },
  {
   "cell_type": "code",
   "execution_count": 71,
   "metadata": {
    "collapsed": false
   },
   "outputs": [],
   "source": [
    "# (-4:5)^2"
   ]
  },
  {
   "cell_type": "code",
   "execution_count": 72,
   "metadata": {
    "collapsed": false
   },
   "outputs": [],
   "source": [
    "# matplot((-4:5)^2, main = \"Quadratic\") # almost identical to plot(*)"
   ]
  },
  {
   "cell_type": "code",
   "execution_count": 75,
   "metadata": {
    "collapsed": false
   },
   "outputs": [],
   "source": [
    "# sines <- outer(1:20, 1:4, function(x, y) sin(x / 20 * pi * y))\n",
    "# matplot(sines, pch = 1:4, type = \"o\", col = rainbow(ncol(sines)))"
   ]
  },
  {
   "cell_type": "code",
   "execution_count": 16,
   "metadata": {
    "collapsed": false
   },
   "outputs": [],
   "source": [
    "# x <- 0:50/50\n",
    "# matplot(x, outer(x, 1:8, function(x, k) sin(k*pi * x)),\n",
    "#         ylim = c(-2,2), type = \"plobcsSh\",\n",
    "#         main= \"matplot(,type = \\\"plobcsSh\\\" )\")"
   ]
  },
  {
   "cell_type": "code",
   "execution_count": 77,
   "metadata": {
    "collapsed": false
   },
   "outputs": [],
   "source": [
    "\n",
    "# lends <- c(\"round\",\"butt\",\"square\")\n",
    "# matplot(matrix(1:12, 4), type=\"c\", lty=1:3, lwd=10, lend=lends)\n",
    "# text(cbind(2.5, 2*c(1,3,5)-.4), lends, col= 1:3, cex = 1.5)\n"
   ]
  },
  {
   "cell_type": "code",
   "execution_count": 79,
   "metadata": {
    "collapsed": false
   },
   "outputs": [],
   "source": [
    "# table(iris$Species) # is data.frame with 'Species' factor\n",
    "# iS <- iris$Species == \"setosa\"\n",
    "# iV <- iris$Species == \"versicolor\"\n",
    "# op <- par(bg = \"bisque\")\n",
    "# matplot(c(1, 8), c(0, 4.5), type =  \"n\", xlab = \"Length\", ylab = \"Width\",\n",
    "#         main = \"Petal and Sepal Dimensions in Iris Blossoms\")\n",
    "# matpoints(iris[iS,c(1,3)], iris[iS,c(2,4)], pch = c(1,2), col = c(2,4))\n",
    "# matpoints(iris[iV,c(1,3)], iris[iV,c(2,4)], pch = \"vV\", col = c(2,4))\n",
    "# legend(1, 4, c(\"    Setosa Petals\", \"    Setosa Sepals\",\n",
    "#                \"Versicolor Petals\", \"Versicolor Sepals\"),\n",
    "#        pch = \"sSvV\", col = rep(c(2,4), 2))"
   ]
  },
  {
   "cell_type": "code",
   "execution_count": 81,
   "metadata": {
    "collapsed": false
   },
   "outputs": [],
   "source": [
    "# dotchart(VADeaths, main = \"Death Rates in Virginia - 1940\")\n",
    "# op <- par(xaxs = \"i\")  # 0 -- 100%\n",
    "# dotchart(t(VADeaths), xlim = c(0,100),\n",
    "#          main = \"Death Rates in Virginia - 1940\")\n",
    "# par(op)"
   ]
  },
  {
   "cell_type": "code",
   "execution_count": 17,
   "metadata": {
    "collapsed": false
   },
   "outputs": [],
   "source": [
    "# ## Use the Berkeley admission data as in Friendly (1995).\n",
    "# x <- aperm(UCBAdmissions, c(2, 1, 3))\n",
    "# dimnames(x)[[2]] <- c(\"Yes\", \"No\")\n",
    "# names(dimnames(x)) <- c(\"Sex\", \"Admit?\", \"Department\")\n",
    "# stats::ftable(x)"
   ]
  },
  {
   "cell_type": "code",
   "execution_count": 43,
   "metadata": {
    "collapsed": false
   },
   "outputs": [],
   "source": [
    "# pairs(iris)"
   ]
  },
  {
   "cell_type": "code",
   "execution_count": 18,
   "metadata": {
    "collapsed": false
   },
   "outputs": [],
   "source": [
    "# x <- -6:16\n",
    "# op <- par(mfrow = c(2, 2))\n",
    "# contour(outer(x, x), method = \"edge\", vfont = c(\"sans serif\", \"plain\"))\n",
    "# z <- outer(x, sqrt(abs(x)), FUN = \"/\")\n",
    "# image(x, x, z)\n",
    "# contour(x, x, z, col = \"pink\", add = TRUE, method = \"edge\",\n",
    "#         vfont = c(\"sans serif\", \"plain\"))\n",
    "# contour(x, x, z, ylim = c(1, 6), method = \"simple\", labcex = 1,\n",
    "#         xlab = quote(x[1]), ylab = quote(x[2]))\n",
    "# contour(x, x, z, ylim = c(-6, 6), nlev = 20, lty = 2, method = \"simple\",\n",
    "#         main = \"20 levels; \\\"simple\\\" labelling method\")\n",
    "# par(op)"
   ]
  },
  {
   "cell_type": "code",
   "execution_count": 78,
   "metadata": {
    "collapsed": false
   },
   "outputs": [],
   "source": [
    "# z[1:6, 7]=-10; z[8:23, 7]=10"
   ]
  },
  {
   "cell_type": "code",
   "execution_count": 77,
   "metadata": {
    "collapsed": false
   },
   "outputs": [],
   "source": [
    "# persp(x,x,z)\n",
    "# star(z)"
   ]
  },
  {
   "cell_type": "code",
   "execution_count": 19,
   "metadata": {
    "collapsed": false
   },
   "outputs": [],
   "source": [
    "# require(stats) # for rnorm\n",
    "# plot(-4:4, -4:4, type = \"o\")  # setting up coord. system\n",
    "# points(rnorm(200), rnorm(200), col = \"red\")\n",
    "# points(rnorm(100)/2, rnorm(100)/2, col = \"blue\", cex = 1.5)\n",
    "\n",
    "# op <- par(bg = \"light blue\")\n",
    "# x <- seq(0, 2*pi, len = 51)\n",
    "# # something \"between type='b' and type='o'\":\n",
    "# plot(x, sin(x), type = \"o\", pch = 21, bg = par(\"bg\"), col = \"blue\", cex = .6,\n",
    "#  main = 'plot(..., type=\"o\", pch=21, bg=par(\"bg\"))')\n",
    "# par(op)"
   ]
  },
  {
   "cell_type": "code",
   "execution_count": 28,
   "metadata": {
    "collapsed": false
   },
   "outputs": [],
   "source": [
    "# ?ar"
   ]
  },
  {
   "cell_type": "code",
   "execution_count": 20,
   "metadata": {
    "collapsed": false
   },
   "outputs": [],
   "source": [
    "# plot(-1:1, -1:1, type = \"n\", xlab = \"Re\", ylab = \"Im\")\n",
    "# K <- 16; text(exp(1i * 2 * pi * (1:K) / K), col = 2) #complex number represents coordinats\n",
    "# text(x, y, expression(p == over(1, 1+e^-(beta*x+alpha))))\n",
    "\n",
    "## The following two examples use latin1 characters: these may not\n",
    "## appear correctly (or be omitted entirely).\n",
    "# plot(1:10, 1:10, main = \"text(...) examples\\n~~~~~~~~~~~~~~\",\n",
    "#      sub = \"R is GNU ©, but not ® ...\")\n",
    "# mtext(\"«Latin-1 accented chars»: éè øØ å<Å æ<Æ\", side = 3)\n",
    "# points(c(6,2), c(2,1), pch = 3, cex = 4, col = \"red\")\n",
    "# text(6, 2, \"the text is CENTERED around (x,y) = (6,2) by default\",\n",
    "#      cex = .8)\n",
    "# Rsquared = 0.911 ^ 2\n",
    "# par(adj=0.2)\n",
    "# text(3,8,as.expression(substitute(italic(R)^2==r, list(r=round(Rsquared, 3)))))"
   ]
  },
  {
   "cell_type": "markdown",
   "metadata": {},
   "source": [
    "## A practical example"
   ]
  },
  {
   "cell_type": "code",
   "execution_count": 79,
   "metadata": {
    "collapsed": false
   },
   "outputs": [],
   "source": [
    "# x <- rnorm(10); y<-rnorm(10)\n",
    "# plot(x, y, xlab=\"Ten random values\", ylab=\"Ten other values\", \n",
    "#     xlim=c(-2, 2), ylim=c(-2, 2), pch=22, col=\"red\",\n",
    "#     bg=\"yellow\", bty=\"l\", tcl=0.4, #tcl stands for  - symble of tick; bty stands for cordinator shape :\"l\", \"7\", \"c\", \"u\", or \"]\" \n",
    "#     main=\"How to customize a plot with R\", las=1, cex=1.5)\n"
   ]
  },
  {
   "cell_type": "code",
   "execution_count": 110,
   "metadata": {
    "collapsed": false
   },
   "outputs": [],
   "source": [
    "# opar <- par()\n",
    "# par(bg=\"lightyellow\", col.axis = \"blue\", mar=c(4,4,2.5,0.25))#mar stands for margin\n",
    "# plot(x,y, xlab=\"Ten random values\", ylab=\"Ten other values\", \n",
    "#     xlim=c(-2, 2), ylim=c(-2, 2), pch = 22, col=\"red\", bg=\"yellow\", cex=1.5, bty=\"u\", tcl=-.25, las=1) #las stands for axis lable direction\n",
    "# title(\"How to customize a plot with R (bis)\", font.main=3, adj=0.5)\n",
    "# par(opar)"
   ]
  },
  {
   "cell_type": "code",
   "execution_count": 1,
   "metadata": {
    "collapsed": false
   },
   "outputs": [],
   "source": [
    "# ?mtext"
   ]
  },
  {
   "cell_type": "code",
   "execution_count": 157,
   "metadata": {
    "collapsed": false
   },
   "outputs": [],
   "source": [
    "# opar<-par()\n",
    "# par(bg=\"lightgray\", mar=c(2.5,1.5,2.5,0.25))\n",
    "# plot(x, y, type=\"n\", xlab =\"\", ylab=\"\", xlim=c(-2, 2), ylim=c(-2,2), xaxt=\"n\", yaxt=\"n\")\n",
    "# rect(-3, -3, 3, 3, col=\"cornsilk\")\n",
    "# points(x,y, pch=10, col=\"red\", cex=2)\n",
    "# axis(side=1, c(-2, 0, 2), tcl=-0.2, labels=FALSE)#labels=c(\"A\", \"B\", \"C\").\n",
    "# axis(side=2, -1:1, tcl=-0.2, labels=FALSE)\n",
    "# title(\"How to customize a plot with R (ter)\", \n",
    "#      font.main=4, adj=1, cex.main=1 )\n",
    "# mtext(\"Ten random values\", side=1, line=1, at=1, cex=0.9, font=3)\n",
    "# mtext(\"Ten other values\", side = 3, line=1, at=-1.8, cex=0.9, font=3) #default 3\n",
    "# mtext(c(-2, 0, 2), side=1, las=1, at=c(-2, 0, 2), line=0.3, col=\"blue\", cex=0.9)\n",
    "# mtext(-1:1, side=2, las=1, at=-1:1, line=0.2, col=\"blue\", cex=0.9)\n",
    "# par(opar)"
   ]
  },
  {
   "cell_type": "markdown",
   "metadata": {},
   "source": [
    "## lattice and gride"
   ]
  },
  {
   "cell_type": "code",
   "execution_count": 2,
   "metadata": {
    "collapsed": true
   },
   "outputs": [],
   "source": [
    "library(lattice)"
   ]
  },
  {
   "cell_type": "code",
   "execution_count": 3,
   "metadata": {
    "collapsed": true
   },
   "outputs": [],
   "source": [
    "n<-seq(5, 45, 5)\n",
    "x<-rnorm(sum(n))"
   ]
  },
  {
   "cell_type": "code",
   "execution_count": 32,
   "metadata": {
    "collapsed": true
   },
   "outputs": [],
   "source": [
    "# factor convert val to category value. only need to define a distinct values list of the same size of distinct number of org vec\n",
    "y <- factor(rep(n, n), labels=paste(\"n=\", n)) #rep n$i n$i times"
   ]
  },
  {
   "cell_type": "code",
   "execution_count": 25,
   "metadata": {
    "collapsed": false
   },
   "outputs": [],
   "source": [
    "# ?densityplot"
   ]
  },
  {
   "cell_type": "code",
   "execution_count": 33,
   "metadata": {
    "collapsed": false
   },
   "outputs": [],
   "source": [
    "# densityplot(~ x| y, panel = function(x, ...) {\n",
    "#     panel.densityplot(x, col=\"DarkOliveGreen\", ...)\n",
    "#     panel.mathdensity(dmath=dnorm, args=list(mean=mean(x), sd=sd(x)),\n",
    "#                      col =\"darkblue\")\n",
    "# })"
   ]
  },
  {
   "cell_type": "code",
   "execution_count": 58,
   "metadata": {
    "collapsed": false
   },
   "outputs": [],
   "source": [
    "# data(quakes)\n",
    "# mini <- min(quakes$depth)\n",
    "# maxi <- max(quakes$depth)\n",
    "# int <- ceiling((maxi - mini)/9)\n",
    "# inf <- seq(mini, maxi, int)\n",
    "# quakes$depth.cat <- factor(floor(((quakes$depth- mini) / int)), labels=paste(inf, inf + int, sep = \"-\"))\n",
    "# xyplot(lat ~ long | depth.cat, data = quakes)"
   ]
  },
  {
   "cell_type": "code",
   "execution_count": 54,
   "metadata": {
    "collapsed": false
   },
   "outputs": [],
   "source": [
    "data(iris)"
   ]
  },
  {
   "cell_type": "code",
   "execution_count": 68,
   "metadata": {
    "collapsed": false
   },
   "outputs": [],
   "source": [
    "# xyplot(Petal.Length ~ Petal.Width, data = iris, groups = Species, panel = panel.superpose, type= c(\"p\", \"smooth\"), span=.75,\n",
    "#       auto.key = list(x=0.15, y=0.85)) #superpose get all plot displayed in the same plot; span:smoothness; auto.key: add label"
   ]
  },
  {
   "cell_type": "code",
   "execution_count": 110,
   "metadata": {
    "collapsed": false
   },
   "outputs": [],
   "source": [
    "# coplot(Sepal.Length~Sepal.Width | Species, data=iris)"
   ]
  },
  {
   "cell_type": "code",
   "execution_count": 111,
   "metadata": {
    "collapsed": false
   },
   "outputs": [],
   "source": [
    "# splom(~iris[1:4], group=Species,data=iris, xlab=\"\", panel=panel.superpose, auto.key=list(columns=3))"
   ]
  },
  {
   "cell_type": "code",
   "execution_count": 115,
   "metadata": {
    "collapsed": false
   },
   "outputs": [],
   "source": [
    "# pairs(iris)"
   ]
  },
  {
   "cell_type": "code",
   "execution_count": 123,
   "metadata": {
    "collapsed": false
   },
   "outputs": [],
   "source": [
    "# splom(~iris[1:3] ,groups = Species, data = iris,panel = panel.superpose)"
   ]
  },
  {
   "cell_type": "code",
   "execution_count": 124,
   "metadata": {
    "collapsed": false
   },
   "outputs": [],
   "source": [
    "# splom(~iris[1:3] | Species, data = iris, pscales = 0, #pscales=0 remove all ticks marks\n",
    "# varnames = c(\"Sepal\\nLength\", \"Sepal\\nWidth\", \"Petal\\nLength\"))"
   ]
  },
  {
   "cell_type": "code",
   "execution_count": 131,
   "metadata": {
    "collapsed": false
   },
   "outputs": [],
   "source": [
    "# parallel(~iris[,1:4]| Species, data=iris, layout=c(3,1))"
   ]
  }
 ],
 "metadata": {
  "kernelspec": {
   "display_name": "R",
   "language": "R",
   "name": "ir"
  },
  "language_info": {
   "codemirror_mode": "r",
   "file_extension": ".r",
   "mimetype": "text/x-r-source",
   "name": "R",
   "pygments_lexer": "r",
   "version": "3.1.2"
  }
 },
 "nbformat": 4,
 "nbformat_minor": 0
}
